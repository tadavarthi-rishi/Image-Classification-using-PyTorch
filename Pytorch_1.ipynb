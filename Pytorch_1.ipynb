{
  "nbformat": 4,
  "nbformat_minor": 0,
  "metadata": {
    "colab": {
      "name": "Pytorch-1",
      "provenance": [],
      "authorship_tag": "ABX9TyNtL0C/Bjp6j/ilpODKkOnw",
      "include_colab_link": true
    },
    "kernelspec": {
      "name": "python3",
      "display_name": "Python 3"
    }
  },
  "cells": [
    {
      "cell_type": "markdown",
      "metadata": {
        "id": "view-in-github",
        "colab_type": "text"
      },
      "source": [
        "<a href=\"https://colab.research.google.com/github/tadavarthi-rishi/Image-Classification-using-PyTorch/blob/master/Pytorch_1.ipynb\" target=\"_parent\"><img src=\"https://colab.research.google.com/assets/colab-badge.svg\" alt=\"Open In Colab\"/></a>"
      ]
    },
    {
      "cell_type": "code",
      "metadata": {
        "id": "V1Ii_4WejuUB",
        "colab_type": "code",
        "colab": {}
      },
      "source": [
        "%matplotlib inline"
      ],
      "execution_count": 1,
      "outputs": []
    },
    {
      "cell_type": "code",
      "metadata": {
        "id": "_1bvMmHhjyD8",
        "colab_type": "code",
        "colab": {}
      },
      "source": [
        "from __future__ import print_function\n",
        "import torch"
      ],
      "execution_count": 2,
      "outputs": []
    },
    {
      "cell_type": "code",
      "metadata": {
        "id": "5AGhPRB6jyi5",
        "colab_type": "code",
        "colab": {
          "base_uri": "https://localhost:8080/",
          "height": 102
        },
        "outputId": "9ea3076f-ab5d-4793-de21-d46d18d96c86"
      },
      "source": [
        "x = torch.empty(5, 3)\n",
        "print(x)"
      ],
      "execution_count": 3,
      "outputs": [
        {
          "output_type": "stream",
          "text": [
            "tensor([[4.9157e-36, 0.0000e+00, 3.3631e-44],\n",
            "        [0.0000e+00,        nan, 6.4460e-44],\n",
            "        [1.1578e+27, 1.1362e+30, 7.1547e+22],\n",
            "        [4.5828e+30, 1.2121e+04, 7.1846e+22],\n",
            "        [9.2198e-39, 7.0374e+22, 0.0000e+00]])\n"
          ],
          "name": "stdout"
        }
      ]
    },
    {
      "cell_type": "code",
      "metadata": {
        "id": "whLHYiXKjyhC",
        "colab_type": "code",
        "colab": {}
      },
      "source": [
        "#Construct a randomly initialized matrix:\n"
      ],
      "execution_count": 6,
      "outputs": []
    },
    {
      "cell_type": "code",
      "metadata": {
        "id": "0MZDkkfTjyeS",
        "colab_type": "code",
        "colab": {
          "base_uri": "https://localhost:8080/",
          "height": 102
        },
        "outputId": "00e04bd8-9fa8-4e19-d7b3-674182adf7de"
      },
      "source": [
        "x = torch.rand(5, 3)\n",
        "print(x)"
      ],
      "execution_count": 7,
      "outputs": [
        {
          "output_type": "stream",
          "text": [
            "tensor([[0.2335, 0.7608, 0.0262],\n",
            "        [0.2733, 0.3441, 0.6101],\n",
            "        [0.9659, 0.8489, 0.6427],\n",
            "        [0.0138, 0.6415, 0.3587],\n",
            "        [0.9240, 0.4089, 0.5905]])\n"
          ],
          "name": "stdout"
        }
      ]
    },
    {
      "cell_type": "code",
      "metadata": {
        "id": "AZ7BxlVkjyZ4",
        "colab_type": "code",
        "colab": {
          "base_uri": "https://localhost:8080/",
          "height": 102
        },
        "outputId": "fcabaa72-2175-477a-910d-b70c71d35baa"
      },
      "source": [
        "#Construct a matrix filled zeros and of dtype long:\n",
        "x = torch.zeros(5, 3, dtype=torch.long)\n",
        "print(x)"
      ],
      "execution_count": 8,
      "outputs": [
        {
          "output_type": "stream",
          "text": [
            "tensor([[0, 0, 0],\n",
            "        [0, 0, 0],\n",
            "        [0, 0, 0],\n",
            "        [0, 0, 0],\n",
            "        [0, 0, 0]])\n"
          ],
          "name": "stdout"
        }
      ]
    },
    {
      "cell_type": "code",
      "metadata": {
        "id": "m9Xb1ybhjyXx",
        "colab_type": "code",
        "colab": {
          "base_uri": "https://localhost:8080/",
          "height": 34
        },
        "outputId": "aa5fd32c-2567-41b0-d9c0-7dc6cc4ada7b"
      },
      "source": [
        "#Construct a tensor directly from data:\n",
        "x = torch.tensor([5.5, 3])\n",
        "print(x)"
      ],
      "execution_count": 9,
      "outputs": [
        {
          "output_type": "stream",
          "text": [
            "tensor([5.5000, 3.0000])\n"
          ],
          "name": "stdout"
        }
      ]
    },
    {
      "cell_type": "code",
      "metadata": {
        "id": "oCkw-4nqjyVj",
        "colab_type": "code",
        "colab": {
          "base_uri": "https://localhost:8080/",
          "height": 187
        },
        "outputId": "291812a9-474f-446f-edb7-8fce791e508b"
      },
      "source": [
        "#or create a tensor based on an existing tensor. These methods will reuse properties of the input tensor, e.g. dtype, unless new values are provided by user\n",
        "\n",
        "x = x.new_ones(5, 3, dtype=torch.double)      # new_* methods take in sizes\n",
        "print(x)\n",
        "\n",
        "x = torch.randn_like(x, dtype=torch.float)    # override dtype!\n",
        "print(x)                                      # result has the same size"
      ],
      "execution_count": 10,
      "outputs": [
        {
          "output_type": "stream",
          "text": [
            "tensor([[1., 1., 1.],\n",
            "        [1., 1., 1.],\n",
            "        [1., 1., 1.],\n",
            "        [1., 1., 1.],\n",
            "        [1., 1., 1.]], dtype=torch.float64)\n",
            "tensor([[ 1.6874e+00,  1.3218e+00, -2.2984e+00],\n",
            "        [ 5.1685e-02,  1.9099e+00,  1.7629e-01],\n",
            "        [ 1.4233e-01,  1.0301e-01,  9.3885e-01],\n",
            "        [-2.0625e-03, -2.2651e-01,  1.6662e+00],\n",
            "        [-5.0965e-01,  2.9715e-01, -1.4852e-01]])\n"
          ],
          "name": "stdout"
        }
      ]
    },
    {
      "cell_type": "code",
      "metadata": {
        "id": "8Qs7aUiAjyRe",
        "colab_type": "code",
        "colab": {
          "base_uri": "https://localhost:8080/",
          "height": 34
        },
        "outputId": "6efb7c10-6848-47cd-fc4b-7bb5c1480a0e"
      },
      "source": [
        "#Get its size:\n",
        "print(x.size())"
      ],
      "execution_count": 11,
      "outputs": [
        {
          "output_type": "stream",
          "text": [
            "torch.Size([5, 3])\n"
          ],
          "name": "stdout"
        }
      ]
    },
    {
      "cell_type": "code",
      "metadata": {
        "id": "U0Ro2U4djyOt",
        "colab_type": "code",
        "colab": {
          "base_uri": "https://localhost:8080/",
          "height": 102
        },
        "outputId": "7eda518b-d697-424d-8a08-9dd2c2dc6304"
      },
      "source": [
        "'''Note\n",
        "\n",
        "``torch.Size`` is in fact a tuple, so it supports all tuple operations.\n",
        "Operations ^^^^^^^^^^ There are multiple syntaxes for operations. In the following example, we will take a look at the addition operation.\n",
        "Addition: syntax 1'''\n",
        "y = torch.rand(5, 3)\n",
        "print(x + y)"
      ],
      "execution_count": 12,
      "outputs": [
        {
          "output_type": "stream",
          "text": [
            "tensor([[ 2.4480,  1.8586, -2.0382],\n",
            "        [ 0.2728,  2.0983,  0.2103],\n",
            "        [ 0.7715,  0.9405,  1.0692],\n",
            "        [ 0.5417,  0.3749,  2.2519],\n",
            "        [ 0.3463,  0.7612,  0.7704]])\n"
          ],
          "name": "stdout"
        }
      ]
    },
    {
      "cell_type": "code",
      "metadata": {
        "id": "85GBHDdWkwHO",
        "colab_type": "code",
        "colab": {
          "base_uri": "https://localhost:8080/",
          "height": 102
        },
        "outputId": "cc166b0e-c052-4d82-fb92-2d0819a312a9"
      },
      "source": [
        "#Addition: syntax 2\n",
        "print(torch.add(x, y))"
      ],
      "execution_count": 13,
      "outputs": [
        {
          "output_type": "stream",
          "text": [
            "tensor([[ 2.4480,  1.8586, -2.0382],\n",
            "        [ 0.2728,  2.0983,  0.2103],\n",
            "        [ 0.7715,  0.9405,  1.0692],\n",
            "        [ 0.5417,  0.3749,  2.2519],\n",
            "        [ 0.3463,  0.7612,  0.7704]])\n"
          ],
          "name": "stdout"
        }
      ]
    },
    {
      "cell_type": "code",
      "metadata": {
        "id": "f9iQo68xkwU-",
        "colab_type": "code",
        "colab": {
          "base_uri": "https://localhost:8080/",
          "height": 102
        },
        "outputId": "95a6e64e-5b30-482d-95cf-d5fc786c896b"
      },
      "source": [
        "#Addition: providing an output tensor as argument\n",
        "result = torch.empty(5, 3)\n",
        "torch.add(x, y, out=result)\n",
        "print(result)"
      ],
      "execution_count": 14,
      "outputs": [
        {
          "output_type": "stream",
          "text": [
            "tensor([[ 2.4480,  1.8586, -2.0382],\n",
            "        [ 0.2728,  2.0983,  0.2103],\n",
            "        [ 0.7715,  0.9405,  1.0692],\n",
            "        [ 0.5417,  0.3749,  2.2519],\n",
            "        [ 0.3463,  0.7612,  0.7704]])\n"
          ],
          "name": "stdout"
        }
      ]
    },
    {
      "cell_type": "code",
      "metadata": {
        "id": "pXZGOCn_kwTi",
        "colab_type": "code",
        "colab": {
          "base_uri": "https://localhost:8080/",
          "height": 102
        },
        "outputId": "9b51d421-6403-46ca-8900-fa37f0d98e69"
      },
      "source": [
        "#Addition: in-place\n",
        "# adds x to y\n",
        "y.add_(x)\n",
        "print(y)"
      ],
      "execution_count": 15,
      "outputs": [
        {
          "output_type": "stream",
          "text": [
            "tensor([[ 2.4480,  1.8586, -2.0382],\n",
            "        [ 0.2728,  2.0983,  0.2103],\n",
            "        [ 0.7715,  0.9405,  1.0692],\n",
            "        [ 0.5417,  0.3749,  2.2519],\n",
            "        [ 0.3463,  0.7612,  0.7704]])\n"
          ],
          "name": "stdout"
        }
      ]
    },
    {
      "cell_type": "code",
      "metadata": {
        "id": "wANUgioFkwQg",
        "colab_type": "code",
        "colab": {
          "base_uri": "https://localhost:8080/",
          "height": 34
        },
        "outputId": "58d562d9-7e7e-430f-811b-8925f44cc749"
      },
      "source": [
        "'''Note\n",
        "\n",
        "Any operation that mutates a tensor in-place is post-fixed with an ``_``. For example: ``x.copy_(y)``, ``x.t_()``, will change ``x``.\n",
        "You can use standard NumPy-like indexing with all bells and whistles!'''\n",
        "\n",
        "print(x[:, 1])"
      ],
      "execution_count": 16,
      "outputs": [
        {
          "output_type": "stream",
          "text": [
            "tensor([ 1.3218,  1.9099,  0.1030, -0.2265,  0.2971])\n"
          ],
          "name": "stdout"
        }
      ]
    },
    {
      "cell_type": "code",
      "metadata": {
        "id": "wzHi7u4NkwPd",
        "colab_type": "code",
        "colab": {
          "base_uri": "https://localhost:8080/",
          "height": 34
        },
        "outputId": "1f93de74-e04b-4b95-cada-8d0bda01e83a"
      },
      "source": [
        "#Resizing: If you want to resize/reshape tensor, you can use torch.view:\n",
        "x = torch.randn(4, 4)\n",
        "y = x.view(16)\n",
        "z = x.view(-1, 8)  # the size -1 is inferred from other dimensions\n",
        "print(x.size(), y.size(), z.size())"
      ],
      "execution_count": 17,
      "outputs": [
        {
          "output_type": "stream",
          "text": [
            "torch.Size([4, 4]) torch.Size([16]) torch.Size([2, 8])\n"
          ],
          "name": "stdout"
        }
      ]
    },
    {
      "cell_type": "code",
      "metadata": {
        "id": "YvcPdnC8kwMJ",
        "colab_type": "code",
        "colab": {
          "base_uri": "https://localhost:8080/",
          "height": 51
        },
        "outputId": "414cda22-6c8c-46de-baae-960c2072bfc7"
      },
      "source": [
        "#If you have a one element tensor, use .item() to get the value as a Python number\n",
        "x = torch.randn(1)\n",
        "print(x)\n",
        "print(x.item())"
      ],
      "execution_count": 18,
      "outputs": [
        {
          "output_type": "stream",
          "text": [
            "tensor([0.1496])\n",
            "0.1496119499206543\n"
          ],
          "name": "stdout"
        }
      ]
    },
    {
      "cell_type": "code",
      "metadata": {
        "id": "nokefU-vjyLw",
        "colab_type": "code",
        "colab": {
          "base_uri": "https://localhost:8080/",
          "height": 34
        },
        "outputId": "b4ca9412-17b0-46b7-90b3-97c89372b969"
      },
      "source": [
        "'''NumPy Bridge\n",
        "Converting a Torch Tensor to a NumPy array and vice versa is a breeze.\n",
        "The Torch Tensor and NumPy array will share their underlying memory locations (if the Torch Tensor is on CPU), and changing one will change the other.\n",
        "Converting a Torch Tensor to a NumPy Array ^^^^^^^^^^^^^^^^^^^^^^^^^^^^^^^^^^^^^^^^^^'''\n",
        "\n",
        "a = torch.ones(5)\n",
        "print(a)"
      ],
      "execution_count": 19,
      "outputs": [
        {
          "output_type": "stream",
          "text": [
            "tensor([1., 1., 1., 1., 1.])\n"
          ],
          "name": "stdout"
        }
      ]
    },
    {
      "cell_type": "code",
      "metadata": {
        "id": "q_84eTKylZ3-",
        "colab_type": "code",
        "colab": {
          "base_uri": "https://localhost:8080/",
          "height": 34
        },
        "outputId": "f8f4f6c9-4d19-4231-a242-145f5fb127dd"
      },
      "source": [
        "b = a.numpy()\n",
        "print(b)"
      ],
      "execution_count": 20,
      "outputs": [
        {
          "output_type": "stream",
          "text": [
            "[1. 1. 1. 1. 1.]\n"
          ],
          "name": "stdout"
        }
      ]
    },
    {
      "cell_type": "code",
      "metadata": {
        "id": "zwaUrBYHlaAh",
        "colab_type": "code",
        "colab": {
          "base_uri": "https://localhost:8080/",
          "height": 51
        },
        "outputId": "c389e96c-5819-46a9-8c0b-8af1c9efb3d2"
      },
      "source": [
        "#See how the numpy array changed in value.\n",
        "a.add_(1)\n",
        "print(a)\n",
        "print(b)"
      ],
      "execution_count": 21,
      "outputs": [
        {
          "output_type": "stream",
          "text": [
            "tensor([2., 2., 2., 2., 2.])\n",
            "[2. 2. 2. 2. 2.]\n"
          ],
          "name": "stdout"
        }
      ]
    },
    {
      "cell_type": "code",
      "metadata": {
        "id": "Ddsihq-ilaRh",
        "colab_type": "code",
        "colab": {
          "base_uri": "https://localhost:8080/",
          "height": 51
        },
        "outputId": "31f32608-df8b-473f-c173-ee664ef5bce6"
      },
      "source": [
        "#Converting NumPy Array to Torch Tensor ^^^^^^^^^^^^^^^^^^^^^^^^^^^^^^^^^^^^^^ See how changing the np array changed the Torch Tensor automatically\n",
        "\n",
        "import numpy as np\n",
        "a = np.ones(5)\n",
        "b = torch.from_numpy(a)\n",
        "np.add(a, 1, out=a)\n",
        "print(a)\n",
        "print(b)"
      ],
      "execution_count": 22,
      "outputs": [
        {
          "output_type": "stream",
          "text": [
            "[2. 2. 2. 2. 2.]\n",
            "tensor([2., 2., 2., 2., 2.], dtype=torch.float64)\n"
          ],
          "name": "stdout"
        }
      ]
    },
    {
      "cell_type": "code",
      "metadata": {
        "id": "J2uid_8jladI",
        "colab_type": "code",
        "colab": {}
      },
      "source": [
        "'''All the Tensors on the CPU except a CharTensor support converting to NumPy and back.\n",
        "CUDA Tensors\n",
        "Tensors can be moved onto any device using the .to method.'''\n",
        "\n",
        "# let us run this cell only if CUDA is available\n",
        "# We will use ``torch.device`` objects to move tensors in and out of GPU\n",
        "if torch.cuda.is_available():\n",
        "    device = torch.device(\"cuda\")          # a CUDA device object\n",
        "    y = torch.ones_like(x, device=device)  # directly create a tensor on GPU\n",
        "    x = x.to(device)                       # or just use strings ``.to(\"cuda\")``\n",
        "    z = x + y\n",
        "    print(z)\n",
        "    print(z.to(\"cpu\", torch.double))       # ``.to`` can also change dtype together!"
      ],
      "execution_count": 23,
      "outputs": []
    }
  ]
}